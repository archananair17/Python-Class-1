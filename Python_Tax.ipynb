{
  "nbformat": 4,
  "nbformat_minor": 0,
  "metadata": {
    "colab": {
      "name": "Python Tax.ipynb",
      "provenance": [],
      "authorship_tag": "ABX9TyNhXaR5fomRpGD4TW1WpDaG",
      "include_colab_link": true
    },
    "kernelspec": {
      "name": "python3",
      "display_name": "Python 3"
    },
    "language_info": {
      "name": "python"
    }
  },
  "cells": [
    {
      "cell_type": "markdown",
      "metadata": {
        "id": "view-in-github",
        "colab_type": "text"
      },
      "source": [
        "<a href=\"https://colab.research.google.com/github/archananair17/Python-Class-1/blob/main/Python_Tax.ipynb\" target=\"_parent\"><img src=\"https://colab.research.google.com/assets/colab-badge.svg\" alt=\"Open In Colab\"/></a>"
      ]
    },
    {
      "cell_type": "code",
      "execution_count": 1,
      "metadata": {
        "colab": {
          "base_uri": "https://localhost:8080/"
        },
        "id": "ZeGLpt-ROqyQ",
        "outputId": "fccfaa88-d30e-4995-d855-fcc44b8c2e58"
      },
      "outputs": [
        {
          "name": "stdout",
          "output_type": "stream",
          "text": [
            "Enter first number456\n"
          ]
        }
      ],
      "source": [
        "x=input(\"Enter first number\")"
      ]
    },
    {
      "cell_type": "code",
      "source": [
        "y=input(\"Enter second number\")"
      ],
      "metadata": {
        "colab": {
          "base_uri": "https://localhost:8080/"
        },
        "id": "lynSg9VIPK9w",
        "outputId": "442e6a6a-af08-4553-87de-7d43198a9f74"
      },
      "execution_count": 5,
      "outputs": [
        {
          "name": "stdout",
          "output_type": "stream",
          "text": [
            "Enter second number345\n"
          ]
        }
      ]
    },
    {
      "cell_type": "code",
      "source": [
        "int(x)+int(y)"
      ],
      "metadata": {
        "colab": {
          "base_uri": "https://localhost:8080/"
        },
        "id": "uDlmRFZwPlD-",
        "outputId": "a053187d-20c4-4d51-8197-a7754c3cee5d"
      },
      "execution_count": 6,
      "outputs": [
        {
          "output_type": "execute_result",
          "data": {
            "text/plain": [
              "801"
            ]
          },
          "metadata": {},
          "execution_count": 6
        }
      ]
    },
    {
      "cell_type": "code",
      "source": [
        "int(x)-int(y)"
      ],
      "metadata": {
        "colab": {
          "base_uri": "https://localhost:8080/"
        },
        "id": "taz_qyrvQBBI",
        "outputId": "22a75259-d0dc-496d-de93-4e6635b1f28b"
      },
      "execution_count": 7,
      "outputs": [
        {
          "output_type": "execute_result",
          "data": {
            "text/plain": [
              "111"
            ]
          },
          "metadata": {},
          "execution_count": 7
        }
      ]
    },
    {
      "cell_type": "code",
      "source": [
        "int(x)/int(y)"
      ],
      "metadata": {
        "colab": {
          "base_uri": "https://localhost:8080/"
        },
        "id": "QdjXk6PGQIdh",
        "outputId": "32a14bf2-f8bb-4b8e-c0b5-777ebb48e5de"
      },
      "execution_count": 8,
      "outputs": [
        {
          "output_type": "execute_result",
          "data": {
            "text/plain": [
              "1.3217391304347825"
            ]
          },
          "metadata": {},
          "execution_count": 8
        }
      ]
    },
    {
      "cell_type": "code",
      "source": [
        "int(x)*int(y)"
      ],
      "metadata": {
        "colab": {
          "base_uri": "https://localhost:8080/"
        },
        "id": "tFK7QI4lQM6e",
        "outputId": "460425dd-5e59-4614-a7be-0f2873674467"
      },
      "execution_count": 9,
      "outputs": [
        {
          "output_type": "execute_result",
          "data": {
            "text/plain": [
              "157320"
            ]
          },
          "metadata": {},
          "execution_count": 9
        }
      ]
    },
    {
      "cell_type": "code",
      "source": [
        "print(x,y)"
      ],
      "metadata": {
        "colab": {
          "base_uri": "https://localhost:8080/"
        },
        "id": "V1U2yDBnQSR2",
        "outputId": "3292969d-7e30-48db-facf-f4691996610a"
      },
      "execution_count": 10,
      "outputs": [
        {
          "output_type": "stream",
          "name": "stdout",
          "text": [
            "456 345\n"
          ]
        }
      ]
    },
    {
      "cell_type": "code",
      "source": [
        "x=int(input(\"Enter first number\"))\n",
        "y=int(input(\"Enter second number\"))"
      ],
      "metadata": {
        "colab": {
          "base_uri": "https://localhost:8080/"
        },
        "id": "3TQKuvuCQpZr",
        "outputId": "63829452-f9b8-40a5-b7e2-b99d98a38550"
      },
      "execution_count": 11,
      "outputs": [
        {
          "name": "stdout",
          "output_type": "stream",
          "text": [
            "Enter first number980\n",
            "Enter second number670\n"
          ]
        }
      ]
    },
    {
      "cell_type": "code",
      "source": [
        "x+y"
      ],
      "metadata": {
        "colab": {
          "base_uri": "https://localhost:8080/"
        },
        "id": "KEVAFoFUR8Xz",
        "outputId": "a655c154-a369-4bd9-9ce1-eff79502276f"
      },
      "execution_count": 12,
      "outputs": [
        {
          "output_type": "execute_result",
          "data": {
            "text/plain": [
              "1650"
            ]
          },
          "metadata": {},
          "execution_count": 12
        }
      ]
    },
    {
      "cell_type": "code",
      "source": [
        "x-y"
      ],
      "metadata": {
        "colab": {
          "base_uri": "https://localhost:8080/"
        },
        "id": "L9LOYqNCSCdz",
        "outputId": "2c3a2ab6-1737-4b60-c610-abb3bcb228d6"
      },
      "execution_count": 13,
      "outputs": [
        {
          "output_type": "execute_result",
          "data": {
            "text/plain": [
              "310"
            ]
          },
          "metadata": {},
          "execution_count": 13
        }
      ]
    },
    {
      "cell_type": "code",
      "source": [
        "x*y"
      ],
      "metadata": {
        "colab": {
          "base_uri": "https://localhost:8080/"
        },
        "id": "prwRA2NeSEaS",
        "outputId": "368a6fbf-220e-4687-b829-403c1c9f6534"
      },
      "execution_count": 14,
      "outputs": [
        {
          "output_type": "execute_result",
          "data": {
            "text/plain": [
              "656600"
            ]
          },
          "metadata": {},
          "execution_count": 14
        }
      ]
    },
    {
      "cell_type": "code",
      "source": [
        "x/y"
      ],
      "metadata": {
        "colab": {
          "base_uri": "https://localhost:8080/"
        },
        "id": "ojLG8AHoSFpa",
        "outputId": "2d4b4813-8ce5-4673-879e-9a76fc71adb3"
      },
      "execution_count": 15,
      "outputs": [
        {
          "output_type": "execute_result",
          "data": {
            "text/plain": [
              "1.462686567164179"
            ]
          },
          "metadata": {},
          "execution_count": 15
        }
      ]
    },
    {
      "cell_type": "code",
      "source": [
        "P=int(input(\"Enter the principal amount\"))\n",
        "N=int(input(\"Enter the number of years\"))\n",
        "R=int(input(\"Enter the rate of interest\"))/100"
      ],
      "metadata": {
        "colab": {
          "base_uri": "https://localhost:8080/"
        },
        "id": "pj4kFU-tSG7S",
        "outputId": "a1a13385-5078-4b4b-f8a3-56c9608481fb"
      },
      "execution_count": 19,
      "outputs": [
        {
          "name": "stdout",
          "output_type": "stream",
          "text": [
            "Enter the principal amount90000\n",
            "Enter the number of years3\n",
            "Enter the rate of interest9\n"
          ]
        }
      ]
    },
    {
      "cell_type": "code",
      "source": [
        "I=P*N*R"
      ],
      "metadata": {
        "id": "NJfoleSaUOYe"
      },
      "execution_count": 20,
      "outputs": []
    },
    {
      "cell_type": "code",
      "source": [
        "print(I)"
      ],
      "metadata": {
        "colab": {
          "base_uri": "https://localhost:8080/"
        },
        "id": "ayE0HrfVVN7M",
        "outputId": "ad41c89a-99f4-42aa-c117-262d820e54a7"
      },
      "execution_count": 21,
      "outputs": [
        {
          "output_type": "stream",
          "name": "stdout",
          "text": [
            "24300.0\n"
          ]
        }
      ]
    },
    {
      "cell_type": "code",
      "source": [
        "x=int(input(\"Enter your mark\"))"
      ],
      "metadata": {
        "colab": {
          "base_uri": "https://localhost:8080/"
        },
        "id": "q4ASs5C_VRYs",
        "outputId": "f1169202-1cdd-49f1-c1c7-ee4e1d2b67d8"
      },
      "execution_count": 27,
      "outputs": [
        {
          "name": "stdout",
          "output_type": "stream",
          "text": [
            "Enter your mark40\n"
          ]
        }
      ]
    },
    {
      "cell_type": "code",
      "source": [
        "if x > 50 :\n",
        " print(\"You are pass\")\n",
        "if x < 50 :\n",
        " print(\"You are failed\")"
      ],
      "metadata": {
        "colab": {
          "base_uri": "https://localhost:8080/"
        },
        "id": "zhJtd3DaX0_x",
        "outputId": "80a89aff-90a6-460c-bfa7-75a76817a047"
      },
      "execution_count": 28,
      "outputs": [
        {
          "output_type": "stream",
          "name": "stdout",
          "text": [
            "You are failed\n"
          ]
        }
      ]
    },
    {
      "cell_type": "code",
      "source": [
        "x=int(input(\"Enter your salary\"))"
      ],
      "metadata": {
        "colab": {
          "base_uri": "https://localhost:8080/"
        },
        "id": "wmSaZ8CpYYbo",
        "outputId": "304b55bc-9f10-4703-be86-a11ef016c862"
      },
      "execution_count": 29,
      "outputs": [
        {
          "name": "stdout",
          "output_type": "stream",
          "text": [
            "Enter your salary500000\n"
          ]
        }
      ]
    },
    {
      "cell_type": "code",
      "source": [
        "if x > 250000 :\n",
        "  print(\"You are taxable\")\n",
        "if x < 250000 :\n",
        "  print(\"You are not taxable\")"
      ],
      "metadata": {
        "colab": {
          "base_uri": "https://localhost:8080/"
        },
        "id": "n6VpAsteapW5",
        "outputId": "ffcfd2fc-2e09-46db-ead2-10c94899fba0"
      },
      "execution_count": 30,
      "outputs": [
        {
          "output_type": "stream",
          "name": "stdout",
          "text": [
            "You are taxable\n"
          ]
        }
      ]
    },
    {
      "cell_type": "code",
      "source": [
        "sal=int(input(\"Enter your salary\"))\n",
        "if x > 300000 :\n",
        "  print(\"You are taxable\")\n",
        "  t=sal*10/100\n",
        "  print(\"tax = \",t)\n",
        "else :\n",
        "  print(\"You are not taxable\")"
      ],
      "metadata": {
        "colab": {
          "base_uri": "https://localhost:8080/"
        },
        "id": "hFUf0IBra_NT",
        "outputId": "47dca960-0355-477a-9fdd-7826008a51a6"
      },
      "execution_count": 33,
      "outputs": [
        {
          "output_type": "stream",
          "name": "stdout",
          "text": [
            "Enter your salary900000\n",
            "You are taxable\n",
            "tax =  90000.0\n"
          ]
        }
      ]
    },
    {
      "cell_type": "code",
      "source": [
        "sal=int(input(\"Enter your salary\"))\n",
        "if x > 250000 :\n",
        "  print(\"You are taxable\")\n",
        "  t=sal*10/100\n",
        "  print(\"tax = \",t)\n",
        "else :\n",
        "  print(\"You are not taxable\")\n"
      ],
      "metadata": {
        "colab": {
          "base_uri": "https://localhost:8080/"
        },
        "outputId": "17164769-2716-4410-83cf-602ef08fbbdb",
        "id": "uD2XBp1xbWV_"
      },
      "execution_count": 34,
      "outputs": [
        {
          "output_type": "stream",
          "name": "stdout",
          "text": [
            "Enter your salary400000\n",
            "You are taxable\n",
            "tax =  40000.0\n"
          ]
        }
      ]
    },
    {
      "cell_type": "code",
      "source": [
        "sal=int(input(\"Enter your salary\"))\n",
        "if x > 250000 :\n",
        "  print(\"You are taxable\")\n",
        "  tax=sal-250000\n",
        "  t=int(tax*10/100)\n",
        "  print(\"tax = \",t)\n",
        "else :\n",
        "  print(\"You are not taxable\")"
      ],
      "metadata": {
        "colab": {
          "base_uri": "https://localhost:8080/"
        },
        "id": "tMsl_HB3cs7r",
        "outputId": "b41e97e6-7f30-4f90-fbcb-6f2494d302ce"
      },
      "execution_count": 38,
      "outputs": [
        {
          "output_type": "stream",
          "name": "stdout",
          "text": [
            "Enter your salary400000\n",
            "You are taxable\n",
            "tax =  15000\n"
          ]
        }
      ]
    },
    {
      "cell_type": "code",
      "source": [
        "sal=int(input(\"Enter your salary\"))\n",
        "if sal > 250000 :\n",
        "  print(\"You are taxable\")\n",
        "  if sal < 500000 :\n",
        "    tax=sal-250000\n",
        "    t=int(tax*10/100)\n",
        "    print(\"tax = \",t)\n",
        "  else : \n",
        "    taxes=sal*20/100\n",
        "    print(\"tax = \",taxes)\n",
        "else:\n",
        "  print(\"You are not taxable\")"
      ],
      "metadata": {
        "colab": {
          "base_uri": "https://localhost:8080/"
        },
        "id": "FQ89HFQWenSU",
        "outputId": "46ce7ff2-3a16-42ee-fd3f-73d78b9909c0"
      },
      "execution_count": 46,
      "outputs": [
        {
          "output_type": "stream",
          "name": "stdout",
          "text": [
            "Enter your salary600000\n",
            "You are taxable\n",
            "tax =  120000.0\n"
          ]
        }
      ]
    },
    {
      "cell_type": "code",
      "source": [
        ""
      ],
      "metadata": {
        "id": "qOCWN9WbiVZB"
      },
      "execution_count": 46,
      "outputs": []
    }
  ]
}