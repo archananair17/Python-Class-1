{
  "nbformat": 4,
  "nbformat_minor": 0,
  "metadata": {
    "colab": {
      "name": "Linear Regression Reliance.ipynb",
      "provenance": [],
      "authorship_tag": "ABX9TyOfjP37BXwrylkazlmKfsFC",
      "include_colab_link": true
    },
    "kernelspec": {
      "name": "python3",
      "display_name": "Python 3"
    },
    "language_info": {
      "name": "python"
    }
  },
  "cells": [
    {
      "cell_type": "markdown",
      "metadata": {
        "id": "view-in-github",
        "colab_type": "text"
      },
      "source": [
        "<a href=\"https://colab.research.google.com/github/archananair17/Python-Class-1/blob/main/Linear_Regression_Reliance.ipynb\" target=\"_parent\"><img src=\"https://colab.research.google.com/assets/colab-badge.svg\" alt=\"Open In Colab\"/></a>"
      ]
    },
    {
      "cell_type": "code",
      "execution_count": null,
      "metadata": {
        "id": "WAjIh7jJtbRP"
      },
      "outputs": [],
      "source": [
        "from sklearn.linear_model import LinearRegression"
      ]
    },
    {
      "cell_type": "code",
      "source": [
        "import pandas as pd"
      ],
      "metadata": {
        "id": "tlSmAWhjwYYV"
      },
      "execution_count": null,
      "outputs": []
    },
    {
      "cell_type": "code",
      "source": [
        "dataset = pd.read_csv(\"LinData.csv\")"
      ],
      "metadata": {
        "id": "UqDudzp6w9aK"
      },
      "execution_count": null,
      "outputs": []
    },
    {
      "cell_type": "code",
      "source": [
        "dataset"
      ],
      "metadata": {
        "colab": {
          "base_uri": "https://localhost:8080/",
          "height": 363
        },
        "id": "zGs4Pf9txe5k",
        "outputId": "5e5717be-b0f0-4246-d247-1eeb145a5298"
      },
      "execution_count": null,
      "outputs": [
        {
          "output_type": "execute_result",
          "data": {
            "text/plain": [
              "   Month  StockPrice\n",
              "0      1           3\n",
              "1      2          10\n",
              "2      3          15\n",
              "3      4          12\n",
              "4      5          10\n",
              "5      6          18\n",
              "6      7          21\n",
              "7      8          40\n",
              "8      9          45\n",
              "9     10          40"
            ],
            "text/html": [
              "\n",
              "  <div id=\"df-cd02806c-56cb-4740-b683-767acd68e86f\">\n",
              "    <div class=\"colab-df-container\">\n",
              "      <div>\n",
              "<style scoped>\n",
              "    .dataframe tbody tr th:only-of-type {\n",
              "        vertical-align: middle;\n",
              "    }\n",
              "\n",
              "    .dataframe tbody tr th {\n",
              "        vertical-align: top;\n",
              "    }\n",
              "\n",
              "    .dataframe thead th {\n",
              "        text-align: right;\n",
              "    }\n",
              "</style>\n",
              "<table border=\"1\" class=\"dataframe\">\n",
              "  <thead>\n",
              "    <tr style=\"text-align: right;\">\n",
              "      <th></th>\n",
              "      <th>Month</th>\n",
              "      <th>StockPrice</th>\n",
              "    </tr>\n",
              "  </thead>\n",
              "  <tbody>\n",
              "    <tr>\n",
              "      <th>0</th>\n",
              "      <td>1</td>\n",
              "      <td>3</td>\n",
              "    </tr>\n",
              "    <tr>\n",
              "      <th>1</th>\n",
              "      <td>2</td>\n",
              "      <td>10</td>\n",
              "    </tr>\n",
              "    <tr>\n",
              "      <th>2</th>\n",
              "      <td>3</td>\n",
              "      <td>15</td>\n",
              "    </tr>\n",
              "    <tr>\n",
              "      <th>3</th>\n",
              "      <td>4</td>\n",
              "      <td>12</td>\n",
              "    </tr>\n",
              "    <tr>\n",
              "      <th>4</th>\n",
              "      <td>5</td>\n",
              "      <td>10</td>\n",
              "    </tr>\n",
              "    <tr>\n",
              "      <th>5</th>\n",
              "      <td>6</td>\n",
              "      <td>18</td>\n",
              "    </tr>\n",
              "    <tr>\n",
              "      <th>6</th>\n",
              "      <td>7</td>\n",
              "      <td>21</td>\n",
              "    </tr>\n",
              "    <tr>\n",
              "      <th>7</th>\n",
              "      <td>8</td>\n",
              "      <td>40</td>\n",
              "    </tr>\n",
              "    <tr>\n",
              "      <th>8</th>\n",
              "      <td>9</td>\n",
              "      <td>45</td>\n",
              "    </tr>\n",
              "    <tr>\n",
              "      <th>9</th>\n",
              "      <td>10</td>\n",
              "      <td>40</td>\n",
              "    </tr>\n",
              "  </tbody>\n",
              "</table>\n",
              "</div>\n",
              "      <button class=\"colab-df-convert\" onclick=\"convertToInteractive('df-cd02806c-56cb-4740-b683-767acd68e86f')\"\n",
              "              title=\"Convert this dataframe to an interactive table.\"\n",
              "              style=\"display:none;\">\n",
              "        \n",
              "  <svg xmlns=\"http://www.w3.org/2000/svg\" height=\"24px\"viewBox=\"0 0 24 24\"\n",
              "       width=\"24px\">\n",
              "    <path d=\"M0 0h24v24H0V0z\" fill=\"none\"/>\n",
              "    <path d=\"M18.56 5.44l.94 2.06.94-2.06 2.06-.94-2.06-.94-.94-2.06-.94 2.06-2.06.94zm-11 1L8.5 8.5l.94-2.06 2.06-.94-2.06-.94L8.5 2.5l-.94 2.06-2.06.94zm10 10l.94 2.06.94-2.06 2.06-.94-2.06-.94-.94-2.06-.94 2.06-2.06.94z\"/><path d=\"M17.41 7.96l-1.37-1.37c-.4-.4-.92-.59-1.43-.59-.52 0-1.04.2-1.43.59L10.3 9.45l-7.72 7.72c-.78.78-.78 2.05 0 2.83L4 21.41c.39.39.9.59 1.41.59.51 0 1.02-.2 1.41-.59l7.78-7.78 2.81-2.81c.8-.78.8-2.07 0-2.86zM5.41 20L4 18.59l7.72-7.72 1.47 1.35L5.41 20z\"/>\n",
              "  </svg>\n",
              "      </button>\n",
              "      \n",
              "  <style>\n",
              "    .colab-df-container {\n",
              "      display:flex;\n",
              "      flex-wrap:wrap;\n",
              "      gap: 12px;\n",
              "    }\n",
              "\n",
              "    .colab-df-convert {\n",
              "      background-color: #E8F0FE;\n",
              "      border: none;\n",
              "      border-radius: 50%;\n",
              "      cursor: pointer;\n",
              "      display: none;\n",
              "      fill: #1967D2;\n",
              "      height: 32px;\n",
              "      padding: 0 0 0 0;\n",
              "      width: 32px;\n",
              "    }\n",
              "\n",
              "    .colab-df-convert:hover {\n",
              "      background-color: #E2EBFA;\n",
              "      box-shadow: 0px 1px 2px rgba(60, 64, 67, 0.3), 0px 1px 3px 1px rgba(60, 64, 67, 0.15);\n",
              "      fill: #174EA6;\n",
              "    }\n",
              "\n",
              "    [theme=dark] .colab-df-convert {\n",
              "      background-color: #3B4455;\n",
              "      fill: #D2E3FC;\n",
              "    }\n",
              "\n",
              "    [theme=dark] .colab-df-convert:hover {\n",
              "      background-color: #434B5C;\n",
              "      box-shadow: 0px 1px 3px 1px rgba(0, 0, 0, 0.15);\n",
              "      filter: drop-shadow(0px 1px 2px rgba(0, 0, 0, 0.3));\n",
              "      fill: #FFFFFF;\n",
              "    }\n",
              "  </style>\n",
              "\n",
              "      <script>\n",
              "        const buttonEl =\n",
              "          document.querySelector('#df-cd02806c-56cb-4740-b683-767acd68e86f button.colab-df-convert');\n",
              "        buttonEl.style.display =\n",
              "          google.colab.kernel.accessAllowed ? 'block' : 'none';\n",
              "\n",
              "        async function convertToInteractive(key) {\n",
              "          const element = document.querySelector('#df-cd02806c-56cb-4740-b683-767acd68e86f');\n",
              "          const dataTable =\n",
              "            await google.colab.kernel.invokeFunction('convertToInteractive',\n",
              "                                                     [key], {});\n",
              "          if (!dataTable) return;\n",
              "\n",
              "          const docLinkHtml = 'Like what you see? Visit the ' +\n",
              "            '<a target=\"_blank\" href=https://colab.research.google.com/notebooks/data_table.ipynb>data table notebook</a>'\n",
              "            + ' to learn more about interactive tables.';\n",
              "          element.innerHTML = '';\n",
              "          dataTable['output_type'] = 'display_data';\n",
              "          await google.colab.output.renderOutput(dataTable, element);\n",
              "          const docLink = document.createElement('div');\n",
              "          docLink.innerHTML = docLinkHtml;\n",
              "          element.appendChild(docLink);\n",
              "        }\n",
              "      </script>\n",
              "    </div>\n",
              "  </div>\n",
              "  "
            ]
          },
          "metadata": {},
          "execution_count": 4
        }
      ]
    },
    {
      "cell_type": "code",
      "source": [
        "x = dataset.iloc[:, :-1].values\n",
        "y = dataset.iloc[:, -1].values"
      ],
      "metadata": {
        "id": "jZBsLur-yRzv"
      },
      "execution_count": null,
      "outputs": []
    },
    {
      "cell_type": "code",
      "source": [
        "x"
      ],
      "metadata": {
        "colab": {
          "base_uri": "https://localhost:8080/"
        },
        "id": "122r_nF9zA8q",
        "outputId": "fb8883b6-8585-4d19-fa0d-3df193822afd"
      },
      "execution_count": null,
      "outputs": [
        {
          "output_type": "execute_result",
          "data": {
            "text/plain": [
              "array([[ 1],\n",
              "       [ 2],\n",
              "       [ 3],\n",
              "       [ 4],\n",
              "       [ 5],\n",
              "       [ 6],\n",
              "       [ 7],\n",
              "       [ 8],\n",
              "       [ 9],\n",
              "       [10]])"
            ]
          },
          "metadata": {},
          "execution_count": 6
        }
      ]
    },
    {
      "cell_type": "code",
      "source": [
        "y"
      ],
      "metadata": {
        "colab": {
          "base_uri": "https://localhost:8080/"
        },
        "id": "EIYOLlbozVsD",
        "outputId": "c9843d2f-9ecc-4fa4-b87d-47c7d05b9238"
      },
      "execution_count": null,
      "outputs": [
        {
          "output_type": "execute_result",
          "data": {
            "text/plain": [
              "array([ 3, 10, 15, 12, 10, 18, 21, 40, 45, 40])"
            ]
          },
          "metadata": {},
          "execution_count": 7
        }
      ]
    },
    {
      "cell_type": "code",
      "source": [
        "reg=LinearRegression()\n",
        "reg.fit(x,y)"
      ],
      "metadata": {
        "colab": {
          "base_uri": "https://localhost:8080/"
        },
        "id": "x8Cj-Z5FzXZZ",
        "outputId": "3889d103-802a-49f4-dd24-8a25b1844b36"
      },
      "execution_count": null,
      "outputs": [
        {
          "output_type": "execute_result",
          "data": {
            "text/plain": [
              "LinearRegression()"
            ]
          },
          "metadata": {},
          "execution_count": 8
        }
      ]
    },
    {
      "cell_type": "code",
      "source": [
        "y_pred=reg.predict(x)"
      ],
      "metadata": {
        "id": "5B0AxXsD0Lez"
      },
      "execution_count": null,
      "outputs": []
    },
    {
      "cell_type": "code",
      "source": [
        "y_pred"
      ],
      "metadata": {
        "colab": {
          "base_uri": "https://localhost:8080/"
        },
        "id": "DFkfBmoy0Rxz",
        "outputId": "86878c72-618f-4167-e38e-1b6ac0593cbc"
      },
      "execution_count": null,
      "outputs": [
        {
          "output_type": "execute_result",
          "data": {
            "text/plain": [
              "array([ 1.27272727,  5.74545455, 10.21818182, 14.69090909, 19.16363636,\n",
              "       23.63636364, 28.10909091, 32.58181818, 37.05454545, 41.52727273])"
            ]
          },
          "metadata": {},
          "execution_count": 10
        }
      ]
    },
    {
      "cell_type": "code",
      "source": [
        "import matplotlib.pyplot as plt\n",
        "plt.scatter(x,y,color=\"red\")\n",
        "plt.plot(x,y_pred,color=\"blue\")"
      ],
      "metadata": {
        "colab": {
          "base_uri": "https://localhost:8080/",
          "height": 282
        },
        "id": "SuvWFz8x0UKy",
        "outputId": "692b9ac7-57e8-4475-a664-56f5a4d8d221"
      },
      "execution_count": null,
      "outputs": [
        {
          "output_type": "execute_result",
          "data": {
            "text/plain": [
              "[<matplotlib.lines.Line2D at 0x7f5e32ca63d0>]"
            ]
          },
          "metadata": {},
          "execution_count": 12
        },
        {
          "output_type": "display_data",
          "data": {
            "text/plain": [
              "<Figure size 432x288 with 1 Axes>"
            ],
            "image/png": "[encoded data removed]"
          },
          "metadata": {
            "needs_background": "light"
          }
        }
      ]
    },
    {
      "cell_type": "code",
      "source": [
        "from sklearn.linear_model import LinearRegression"
      ],
      "metadata": {
        "id": "0WpTzWVb0gBu"
      },
      "execution_count": null,
      "outputs": []
    },
    {
      "cell_type": "code",
      "source": [
        "import pandas as pd\n",
        "import matplotlib.pyplot as plt"
      ],
      "metadata": {
        "id": "KV4qNXQO4s8V"
      },
      "execution_count": null,
      "outputs": []
    },
    {
      "cell_type": "code",
      "source": [
        "dataset1=pd.read_csv(\"RELIANCE..csv\")"
      ],
      "metadata": {
        "id": "E20il2To406Y"
      },
      "execution_count": null,
      "outputs": []
    },
    {
      "cell_type": "code",
      "source": [
        "dataset1"
      ],
      "metadata": {
        "colab": {
          "base_uri": "https://localhost:8080/",
          "height": 424
        },
        "id": "xQfOLjBz5Ap3",
        "outputId": "9cff0bb9-0aaa-48f4-e123-8f4aa2d89b3b"
      },
      "execution_count": null,
      "outputs": [
        {
          "output_type": "execute_result",
          "data": {
            "text/plain": [
              "      Date         Open\n",
              "0      1.0  2149.350098\n",
              "1      2.0  2168.850098\n",
              "2      3.0  2174.000000\n",
              "3      4.0  2143.000000\n",
              "4      5.0  2174.000000\n",
              "..     ...          ...\n",
              "244  245.0  2531.000000\n",
              "245  246.0  2576.899902\n",
              "246  247.0  2603.100098\n",
              "247  248.0  2590.300049\n",
              "248  249.0  2646.199951\n",
              "\n",
              "[249 rows x 2 columns]"
            ],
            "text/html": [
              "\n",
              "  <div id=\"df-a9f88b06-7bd8-4ef8-b266-cde63110d3f6\">\n",
              "    <div class=\"colab-df-container\">\n",
              "      <div>\n",
              "<style scoped>\n",
              "    .dataframe tbody tr th:only-of-type {\n",
              "        vertical-align: middle;\n",
              "    }\n",
              "\n",
              "    .dataframe tbody tr th {\n",
              "        vertical-align: top;\n",
              "    }\n",
              "\n",
              "    .dataframe thead th {\n",
              "        text-align: right;\n",
              "    }\n",
              "</style>\n",
              "<table border=\"1\" class=\"dataframe\">\n",
              "  <thead>\n",
              "    <tr style=\"text-align: right;\">\n",
              "      <th></th>\n",
              "      <th>Date</th>\n",
              "      <th>Open</th>\n",
              "    </tr>\n",
              "  </thead>\n",
              "  <tbody>\n",
              "    <tr>\n",
              "      <th>0</th>\n",
              "      <td>1.0</td>\n",
              "      <td>2149.350098</td>\n",
              "    </tr>\n",
              "    <tr>\n",
              "      <th>1</th>\n",
              "      <td>2.0</td>\n",
              "      <td>2168.850098</td>\n",
              "    </tr>\n",
              "    <tr>\n",
              "      <th>2</th>\n",
              "      <td>3.0</td>\n",
              "      <td>2174.000000</td>\n",
              "    </tr>\n",
              "    <tr>\n",
              "      <th>3</th>\n",
              "      <td>4.0</td>\n",
              "      <td>2143.000000</td>\n",
              "    </tr>\n",
              "    <tr>\n",
              "      <th>4</th>\n",
              "      <td>5.0</td>\n",
              "      <td>2174.000000</td>\n",
              "    </tr>\n",
              "    <tr>\n",
              "      <th>...</th>\n",
              "      <td>...</td>\n",
              "      <td>...</td>\n",
              "    </tr>\n",
              "    <tr>\n",
              "      <th>244</th>\n",
              "      <td>245.0</td>\n",
              "      <td>2531.000000</td>\n",
              "    </tr>\n",
              "    <tr>\n",
              "      <th>245</th>\n",
              "      <td>246.0</td>\n",
              "      <td>2576.899902</td>\n",
              "    </tr>\n",
              "    <tr>\n",
              "      <th>246</th>\n",
              "      <td>247.0</td>\n",
              "      <td>2603.100098</td>\n",
              "    </tr>\n",
              "    <tr>\n",
              "      <th>247</th>\n",
              "      <td>248.0</td>\n",
              "      <td>2590.300049</td>\n",
              "    </tr>\n",
              "    <tr>\n",
              "      <th>248</th>\n",
              "      <td>249.0</td>\n",
              "      <td>2646.199951</td>\n",
              "    </tr>\n",
              "  </tbody>\n",
              "</table>\n",
              "<p>249 rows × 2 columns</p>\n",
              "</div>\n",
              "      <button class=\"colab-df-convert\" onclick=\"convertToInteractive('df-a9f88b06-7bd8-4ef8-b266-cde63110d3f6')\"\n",
              "              title=\"Convert this dataframe to an interactive table.\"\n",
              "              style=\"display:none;\">\n",
              "        \n",
              "  <svg xmlns=\"http://www.w3.org/2000/svg\" height=\"24px\"viewBox=\"0 0 24 24\"\n",
              "       width=\"24px\">\n",
              "    <path d=\"M0 0h24v24H0V0z\" fill=\"none\"/>\n",
              "    <path d=\"M18.56 5.44l.94 2.06.94-2.06 2.06-.94-2.06-.94-.94-2.06-.94 2.06-2.06.94zm-11 1L8.5 8.5l.94-2.06 2.06-.94-2.06-.94L8.5 2.5l-.94 2.06-2.06.94zm10 10l.94 2.06.94-2.06 2.06-.94-2.06-.94-.94-2.06-.94 2.06-2.06.94z\"/><path d=\"M17.41 7.96l-1.37-1.37c-.4-.4-.92-.59-1.43-.59-.52 0-1.04.2-1.43.59L10.3 9.45l-7.72 7.72c-.78.78-.78 2.05 0 2.83L4 21.41c.39.39.9.59 1.41.59.51 0 1.02-.2 1.41-.59l7.78-7.78 2.81-2.81c.8-.78.8-2.07 0-2.86zM5.41 20L4 18.59l7.72-7.72 1.47 1.35L5.41 20z\"/>\n",
              "  </svg>\n",
              "      </button>\n",
              "      \n",
              "  <style>\n",
              "    .colab-df-container {\n",
              "      display:flex;\n",
              "      flex-wrap:wrap;\n",
              "      gap: 12px;\n",
              "    }\n",
              "\n",
              "    .colab-df-convert {\n",
              "      background-color: #E8F0FE;\n",
              "      border: none;\n",
              "      border-radius: 50%;\n",
              "      cursor: pointer;\n",
              "      display: none;\n",
              "      fill: #1967D2;\n",
              "      height: 32px;\n",
              "      padding: 0 0 0 0;\n",
              "      width: 32px;\n",
              "    }\n",
              "\n",
              "    .colab-df-convert:hover {\n",
              "      background-color: #E2EBFA;\n",
              "      box-shadow: 0px 1px 2px rgba(60, 64, 67, 0.3), 0px 1px 3px 1px rgba(60, 64, 67, 0.15);\n",
              "      fill: #174EA6;\n",
              "    }\n",
              "\n",
              "    [theme=dark] .colab-df-convert {\n",
              "      background-color: #3B4455;\n",
              "      fill: #D2E3FC;\n",
              "    }\n",
              "\n",
              "    [theme=dark] .colab-df-convert:hover {\n",
              "      background-color: #434B5C;\n",
              "      box-shadow: 0px 1px 3px 1px rgba(0, 0, 0, 0.15);\n",
              "      filter: drop-shadow(0px 1px 2px rgba(0, 0, 0, 0.3));\n",
              "      fill: #FFFFFF;\n",
              "    }\n",
              "  </style>\n",
              "\n",
              "      <script>\n",
              "        const buttonEl =\n",
              "          document.querySelector('#df-a9f88b06-7bd8-4ef8-b266-cde63110d3f6 button.colab-df-convert');\n",
              "        buttonEl.style.display =\n",
              "          google.colab.kernel.accessAllowed ? 'block' : 'none';\n",
              "\n",
              "        async function convertToInteractive(key) {\n",
              "          const element = document.querySelector('#df-a9f88b06-7bd8-4ef8-b266-cde63110d3f6');\n",
              "          const dataTable =\n",
              "            await google.colab.kernel.invokeFunction('convertToInteractive',\n",
              "                                                     [key], {});\n",
              "          if (!dataTable) return;\n",
              "\n",
              "          const docLinkHtml = 'Like what you see? Visit the ' +\n",
              "            '<a target=\"_blank\" href=https://colab.research.google.com/notebooks/data_table.ipynb>data table notebook</a>'\n",
              "            + ' to learn more about interactive tables.';\n",
              "          element.innerHTML = '';\n",
              "          dataTable['output_type'] = 'display_data';\n",
              "          await google.colab.output.renderOutput(dataTable, element);\n",
              "          const docLink = document.createElement('div');\n",
              "          docLink.innerHTML = docLinkHtml;\n",
              "          element.appendChild(docLink);\n",
              "        }\n",
              "      </script>\n",
              "    </div>\n",
              "  </div>\n",
              "  "
            ]
          },
          "metadata": {},
          "execution_count": 26
        }
      ]
    },
    {
      "cell_type": "code",
      "source": [
        "x=dataset1.iloc[:,:-1].values\n",
        "y=dataset1.iloc[:,-1].values"
      ],
      "metadata": {
        "id": "L0jYbOFK5ByN"
      },
      "execution_count": null,
      "outputs": []
    },
    {
      "cell_type": "code",
      "source": [
        "x\n"
      ],
      "metadata": {
        "colab": {
          "base_uri": "https://localhost:8080/"
        },
        "id": "Y06Rnw-w6W1A",
        "outputId": "193c9cbf-3eea-46bb-e98f-b3f327ef9e0b"
      },
      "execution_count": null,
      "outputs": [
        {
          "output_type": "execute_result",
          "data": {
            "text/plain": [
              "array([[  1.],\n",
              "       [  2.],\n",
              "       [  3.],\n",
              "       [  4.],\n",
              "       [  5.],\n",
              "       [  6.],\n",
              "       [  7.],\n",
              "       [  8.],\n",
              "       [  9.],\n",
              "       [ 10.],\n",
              "       [ 11.],\n",
              "       [ 12.],\n",
              "       [ 13.],\n",
              "       [ 14.],\n",
              "       [ 15.],\n",
              "       [ 16.],\n",
              "       [ 17.],\n",
              "       [ 18.],\n",
              "       [ 19.],\n",
              "       [ 20.],\n",
              "       [ 21.],\n",
              "       [ 22.],\n",
              "       [ 23.],\n",
              "       [ 24.],\n",
              "       [ 25.],\n",
              "       [ 26.],\n",
              "       [ 27.],\n",
              "       [ 28.],\n",
              "       [ 29.],\n",
              "       [ 30.],\n",
              "       [ 31.],\n",
              "       [ 32.],\n",
              "       [ 33.],\n",
              "       [ 34.],\n",
              "       [ 35.],\n",
              "       [ 36.],\n",
              "       [ 37.],\n",
              "       [ 38.],\n",
              "       [ 39.],\n",
              "       [ 40.],\n",
              "       [ 41.],\n",
              "       [ 42.],\n",
              "       [ 43.],\n",
              "       [ 44.],\n",
              "       [ 45.],\n",
              "       [ 46.],\n",
              "       [ 47.],\n",
              "       [ 48.],\n",
              "       [ 49.],\n",
              "       [ 50.],\n",
              "       [ 51.],\n",
              "       [ 52.],\n",
              "       [ 53.],\n",
              "       [ 54.],\n",
              "       [ 55.],\n",
              "       [ 56.],\n",
              "       [ 57.],\n",
              "       [ 58.],\n",
              "       [ 59.],\n",
              "       [ 60.],\n",
              "       [ 61.],\n",
              "       [ 62.],\n",
              "       [ 63.],\n",
              "       [ 64.],\n",
              "       [ 65.],\n",
              "       [ 66.],\n",
              "       [ 67.],\n",
              "       [ 68.],\n",
              "       [ 69.],\n",
              "       [ 70.],\n",
              "       [ 71.],\n",
              "       [ 72.],\n",
              "       [ 73.],\n",
              "       [ 74.],\n",
              "       [ 75.],\n",
              "       [ 76.],\n",
              "       [ 77.],\n",
              "       [ 78.],\n",
              "       [ 79.],\n",
              "       [ 80.],\n",
              "       [ 81.],\n",
              "       [ 82.],\n",
              "       [ 83.],\n",
              "       [ 84.],\n",
              "       [ 85.],\n",
              "       [ 86.],\n",
              "       [ 87.],\n",
              "       [ 88.],\n",
              "       [ 89.],\n",
              "       [ 90.],\n",
              "       [ 91.],\n",
              "       [ 92.],\n",
              "       [ 93.],\n",
              "       [ 94.],\n",
              "       [ 95.],\n",
              "       [ 96.],\n",
              "       [ 97.],\n",
              "       [ 98.],\n",
              "       [ 99.],\n",
              "       [100.],\n",
              "       [101.],\n",
              "       [102.],\n",
              "       [103.],\n",
              "       [104.],\n",
              "       [105.],\n",
              "       [106.],\n",
              "       [107.],\n",
              "       [108.],\n",
              "       [109.],\n",
              "       [110.],\n",
              "       [111.],\n",
              "       [112.],\n",
              "       [113.],\n",
              "       [114.],\n",
              "       [115.],\n",
              "       [116.],\n",
              "       [117.],\n",
              "       [118.],\n",
              "       [119.],\n",
              "       [120.],\n",
              "       [121.],\n",
              "       [122.],\n",
              "       [123.],\n",
              "       [124.],\n",
              "       [125.],\n",
              "       [126.],\n",
              "       [127.],\n",
              "       [128.],\n",
              "       [129.],\n",
              "       [130.],\n",
              "       [131.],\n",
              "       [132.],\n",
              "       [133.],\n",
              "       [134.],\n",
              "       [135.],\n",
              "       [136.],\n",
              "       [137.],\n",
              "       [138.],\n",
              "       [139.],\n",
              "       [140.],\n",
              "       [141.],\n",
              "       [142.],\n",
              "       [143.],\n",
              "       [144.],\n",
              "       [145.],\n",
              "       [146.],\n",
              "       [147.],\n",
              "       [148.],\n",
              "       [149.],\n",
              "       [150.],\n",
              "       [151.],\n",
              "       [152.],\n",
              "       [153.],\n",
              "       [154.],\n",
              "       [155.],\n",
              "       [156.],\n",
              "       [157.],\n",
              "       [158.],\n",
              "       [159.],\n",
              "       [160.],\n",
              "       [161.],\n",
              "       [162.],\n",
              "       [163.],\n",
              "       [164.],\n",
              "       [165.],\n",
              "       [166.],\n",
              "       [167.],\n",
              "       [168.],\n",
              "       [169.],\n",
              "       [170.],\n",
              "       [171.],\n",
              "       [172.],\n",
              "       [173.],\n",
              "       [174.],\n",
              "       [175.],\n",
              "       [176.],\n",
              "       [177.],\n",
              "       [178.],\n",
              "       [179.],\n",
              "       [180.],\n",
              "       [181.],\n",
              "       [182.],\n",
              "       [183.],\n",
              "       [184.],\n",
              "       [185.],\n",
              "       [186.],\n",
              "       [187.],\n",
              "       [188.],\n",
              "       [189.],\n",
              "       [190.],\n",
              "       [191.],\n",
              "       [192.],\n",
              "       [193.],\n",
              "       [194.],\n",
              "       [195.],\n",
              "       [196.],\n",
              "       [197.],\n",
              "       [198.],\n",
              "       [199.],\n",
              "       [200.],\n",
              "       [201.],\n",
              "       [202.],\n",
              "       [203.],\n",
              "       [204.],\n",
              "       [205.],\n",
              "       [206.],\n",
              "       [207.],\n",
              "       [208.],\n",
              "       [209.],\n",
              "       [210.],\n",
              "       [211.],\n",
              "       [212.],\n",
              "       [213.],\n",
              "       [214.],\n",
              "       [215.],\n",
              "       [216.],\n",
              "       [217.],\n",
              "       [218.],\n",
              "       [219.],\n",
              "       [220.],\n",
              "       [221.],\n",
              "       [222.],\n",
              "       [223.],\n",
              "       [224.],\n",
              "       [225.],\n",
              "       [226.],\n",
              "       [227.],\n",
              "       [228.],\n",
              "       [229.],\n",
              "       [230.],\n",
              "       [231.],\n",
              "       [232.],\n",
              "       [233.],\n",
              "       [234.],\n",
              "       [235.],\n",
              "       [236.],\n",
              "       [237.],\n",
              "       [238.],\n",
              "       [239.],\n",
              "       [240.],\n",
              "       [241.],\n",
              "       [242.],\n",
              "       [243.],\n",
              "       [244.],\n",
              "       [245.],\n",
              "       [246.],\n",
              "       [247.],\n",
              "       [248.],\n",
              "       [249.]])"
            ]
          },
          "metadata": {},
          "execution_count": 28
        }
      ]
    },
    {
      "cell_type": "code",
      "source": [
        "y"
      ],
      "metadata": {
        "colab": {
          "base_uri": "https://localhost:8080/"
        },
        "id": "8Bo3bQns6Xr5",
        "outputId": "cf8cb5a8-52bc-48cb-d9ae-66a8fe9a4d5a"
      },
      "execution_count": null,
      "outputs": [
        {
          "output_type": "execute_result",
          "data": {
            "text/plain": [
              "array([2149.350098, 2168.850098, 2174.      , 2143.      , 2174.      ,\n",
              "       2165.050049, 2185.399902, 2208.      , 2237.      , 2250.      ,\n",
              "       2276.899902, 2273.      , 2255.      , 2310.      , 2413.      ,\n",
              "       2430.      , 2452.      , 2427.899902, 2433.      , 2375.      ,\n",
              "       2368.5     , 2381.550049, 2446.      , 2372.100098, 2405.      ,\n",
              "       2408.      , 2447.399902, 2503.550049, 2487.      , 2534.      ,\n",
              "       2570.      , 2525.      , 2501.949951, 2553.      , 2555.100098,\n",
              "       2619.949951, 2595.      , 2585.25    , 2701.399902, 2645.      ,\n",
              "       2679.      , 2700.350098, 2668.600098, 2723.800049, 2742.75    ,\n",
              "       2727.399902, 2620.      , 2680.      , 2617.100098, 2652.      ,\n",
              "       2620.      , 2596.149902, 2536.25    , 2545.      , 2506.050049,\n",
              "       2492.949951, 2519.399902, 2505.      , 2516.699951, 2540.050049,\n",
              "       2562.899902, 2600.      , 2572.050049, 2498.949951, 2460.      ,\n",
              "       2436.100098, 2333.050049, 2380.      , 2373.      , 2467.800049,\n",
              "       2439.100098, 2468.      , 2433.      , 2469.699951, 2498.399902,\n",
              "       2416.      , 2376.149902, 2424.100098, 2435.      , 2440.25    ,\n",
              "       2473.5     , 2380.      , 2384.      , 2405.699951, 2398.050049,\n",
              "       2317.850098, 2311.350098, 2324.899902, 2374.      , 2370.      ,\n",
              "       2361.550049, 2375.600098, 2391.      , 2400.      , 2373.      ,\n",
              "       2365.      , 2415.899902, 2462.      , 2451.199951, 2430.949951,\n",
              "       2452.      , 2436.      , 2471.300049, 2521.25    , 2535.      ,\n",
              "       2538.      , 2554.75    , 2530.      , 2500.050049, 2452.      ,\n",
              "       2475.      , 2349.550049, 2336.      , 2365.      , 2360.199951,\n",
              "       2408.      , 2407.      , 2392.      , 2341.      , 2342.      ,\n",
              "       2330.649902, 2371.149902, 2395.699951, 2373.25    , 2340.25    ,\n",
              "       2351.199951, 2430.      , 2420.100098, 2444.399902, 2412.      ,\n",
              "       2352.899902, 2401.100098, 2305.      , 2280.100098, 2243.      ,\n",
              "       2334.449951, 2400.      , 2353.      , 2278.699951, 2211.5     ,\n",
              "       2236.      , 2400.      , 2376.050049, 2386.899902, 2427.949951,\n",
              "       2382.      , 2432.75    , 2444.      , 2460.100098, 2523.      ,\n",
              "       2510.      , 2582.5     , 2610.      , 2638.      , 2639.899902,\n",
              "       2664.949951, 2636.      , 2655.449951, 2651.100098, 2587.100098,\n",
              "       2595.100098, 2560.      , 2600.      , 2587.      , 2574.5     ,\n",
              "       2533.      , 2558.      , 2657.100098, 2750.899902, 2758.899902,\n",
              "       2742.399902, 2710.      , 2755.850098, 2809.949951, 2856.149902,\n",
              "       2762.      , 2785.      , 2723.5     , 2612.199951, 2574.949951,\n",
              "       2495.      , 2472.649902, 2427.5     , 2426.      , 2434.449951,\n",
              "       2435.100098, 2539.649902, 2484.      , 2512.5     , 2631.5     ,\n",
              "       2607.      , 2635.      , 2624.399902, 2593.050049, 2615.      ,\n",
              "       2641.399902, 2634.300049, 2634.      , 2744.      , 2780.      ,\n",
              "       2769.899902, 2772.75    , 2710.      , 2771.899902, 2650.      ,\n",
              "       2650.050049, 2617.550049, 2623.      , 2560.      , 2605.      ,\n",
              "       2560.      , 2558.100098, 2515.050049, 2480.      , 2544.949951,\n",
              "       2482.100098, 2507.199951, 2580.      , 2574.899902, 2378.949951,\n",
              "       2423.      , 2420.100098, 2425.899902, 2418.      , 2376.5     ,\n",
              "       2404.      , 2427.300049, 2388.      , 2415.      , 2421.      ,\n",
              "       2400.300049, 2540.      , 2494.      , 2500.      , 2467.449951,\n",
              "       2421.100098, 2419.949951, 2436.      , 2474.699951, 2519.149902,\n",
              "       2572.5     , 2600.      , 2610.      , 2576.      , 2531.      ,\n",
              "       2576.899902, 2603.100098, 2590.300049, 2646.199951])"
            ]
          },
          "metadata": {},
          "execution_count": 29
        }
      ]
    },
    {
      "cell_type": "code",
      "source": [
        "reg=LinearRegression()\n",
        "reg.fit(x,y)"
      ],
      "metadata": {
        "colab": {
          "base_uri": "https://localhost:8080/"
        },
        "id": "2ElkgbPx6YLs",
        "outputId": "15be3d22-6c45-49bd-be5b-9ff1d2dff770"
      },
      "execution_count": null,
      "outputs": [
        {
          "output_type": "execute_result",
          "data": {
            "text/plain": [
              "LinearRegression()"
            ]
          },
          "metadata": {},
          "execution_count": 30
        }
      ]
    },
    {
      "cell_type": "code",
      "source": [
        "y_pred=reg.predict(x)"
      ],
      "metadata": {
        "id": "HcpweDin6lC1"
      },
      "execution_count": null,
      "outputs": []
    },
    {
      "cell_type": "code",
      "source": [
        "y_pred"
      ],
      "metadata": {
        "colab": {
          "base_uri": "https://localhost:8080/"
        },
        "id": "SQ_b3AeN6zAl",
        "outputId": "0ca2e849-e461-4615-e567-d8fedd5df263"
      },
      "execution_count": null,
      "outputs": [
        {
          "output_type": "execute_result",
          "data": {
            "text/plain": [
              "array([2404.48433168, 2405.16273564, 2405.8411396 , 2406.51954356,\n",
              "       2407.19794752, 2407.87635148, 2408.55475544, 2409.2331594 ,\n",
              "       2409.91156336, 2410.58996732, 2411.26837128, 2411.94677524,\n",
              "       2412.6251792 , 2413.30358316, 2413.98198712, 2414.66039108,\n",
              "       2415.33879504, 2416.017199  , 2416.69560296, 2417.37400692,\n",
              "       2418.05241088, 2418.73081484, 2419.4092188 , 2420.08762276,\n",
              "       2420.76602672, 2421.44443069, 2422.12283465, 2422.80123861,\n",
              "       2423.47964257, 2424.15804653, 2424.83645049, 2425.51485445,\n",
              "       2426.19325841, 2426.87166237, 2427.55006633, 2428.22847029,\n",
              "       2428.90687425, 2429.58527821, 2430.26368217, 2430.94208613,\n",
              "       2431.62049009, 2432.29889405, 2432.97729801, 2433.65570197,\n",
              "       2434.33410593, 2435.01250989, 2435.69091385, 2436.36931781,\n",
              "       2437.04772177, 2437.72612573, 2438.40452969, 2439.08293365,\n",
              "       2439.76133761, 2440.43974157, 2441.11814553, 2441.79654949,\n",
              "       2442.47495345, 2443.15335741, 2443.83176137, 2444.51016533,\n",
              "       2445.18856929, 2445.86697325, 2446.54537721, 2447.22378118,\n",
              "       2447.90218514, 2448.5805891 , 2449.25899306, 2449.93739702,\n",
              "       2450.61580098, 2451.29420494, 2451.9726089 , 2452.65101286,\n",
              "       2453.32941682, 2454.00782078, 2454.68622474, 2455.3646287 ,\n",
              "       2456.04303266, 2456.72143662, 2457.39984058, 2458.07824454,\n",
              "       2458.7566485 , 2459.43505246, 2460.11345642, 2460.79186038,\n",
              "       2461.47026434, 2462.1486683 , 2462.82707226, 2463.50547622,\n",
              "       2464.18388018, 2464.86228414, 2465.5406881 , 2466.21909206,\n",
              "       2466.89749602, 2467.57589998, 2468.25430394, 2468.9327079 ,\n",
              "       2469.61111186, 2470.28951582, 2470.96791978, 2471.64632374,\n",
              "       2472.3247277 , 2473.00313167, 2473.68153563, 2474.35993959,\n",
              "       2475.03834355, 2475.71674751, 2476.39515147, 2477.07355543,\n",
              "       2477.75195939, 2478.43036335, 2479.10876731, 2479.78717127,\n",
              "       2480.46557523, 2481.14397919, 2481.82238315, 2482.50078711,\n",
              "       2483.17919107, 2483.85759503, 2484.53599899, 2485.21440295,\n",
              "       2485.89280691, 2486.57121087, 2487.24961483, 2487.92801879,\n",
              "       2488.60642275, 2489.28482671, 2489.96323067, 2490.64163463,\n",
              "       2491.32003859, 2491.99844255, 2492.67684651, 2493.35525047,\n",
              "       2494.03365443, 2494.71205839, 2495.39046235, 2496.06886631,\n",
              "       2496.74727027, 2497.42567423, 2498.10407819, 2498.78248215,\n",
              "       2499.46088612, 2500.13929008, 2500.81769404, 2501.496098  ,\n",
              "       2502.17450196, 2502.85290592, 2503.53130988, 2504.20971384,\n",
              "       2504.8881178 , 2505.56652176, 2506.24492572, 2506.92332968,\n",
              "       2507.60173364, 2508.2801376 , 2508.95854156, 2509.63694552,\n",
              "       2510.31534948, 2510.99375344, 2511.6721574 , 2512.35056136,\n",
              "       2513.02896532, 2513.70736928, 2514.38577324, 2515.0641772 ,\n",
              "       2515.74258116, 2516.42098512, 2517.09938908, 2517.77779304,\n",
              "       2518.456197  , 2519.13460096, 2519.81300492, 2520.49140888,\n",
              "       2521.16981284, 2521.8482168 , 2522.52662076, 2523.20502472,\n",
              "       2523.88342868, 2524.56183264, 2525.24023661, 2525.91864057,\n",
              "       2526.59704453, 2527.27544849, 2527.95385245, 2528.63225641,\n",
              "       2529.31066037, 2529.98906433, 2530.66746829, 2531.34587225,\n",
              "       2532.02427621, 2532.70268017, 2533.38108413, 2534.05948809,\n",
              "       2534.73789205, 2535.41629601, 2536.09469997, 2536.77310393,\n",
              "       2537.45150789, 2538.12991185, 2538.80831581, 2539.48671977,\n",
              "       2540.16512373, 2540.84352769, 2541.52193165, 2542.20033561,\n",
              "       2542.87873957, 2543.55714353, 2544.23554749, 2544.91395145,\n",
              "       2545.59235541, 2546.27075937, 2546.94916333, 2547.62756729,\n",
              "       2548.30597125, 2548.98437521, 2549.66277917, 2550.34118313,\n",
              "       2551.01958709, 2551.69799106, 2552.37639502, 2553.05479898,\n",
              "       2553.73320294, 2554.4116069 , 2555.09001086, 2555.76841482,\n",
              "       2556.44681878, 2557.12522274, 2557.8036267 , 2558.48203066,\n",
              "       2559.16043462, 2559.83883858, 2560.51724254, 2561.1956465 ,\n",
              "       2561.87405046, 2562.55245442, 2563.23085838, 2563.90926234,\n",
              "       2564.5876663 , 2565.26607026, 2565.94447422, 2566.62287818,\n",
              "       2567.30128214, 2567.9796861 , 2568.65809006, 2569.33649402,\n",
              "       2570.01489798, 2570.69330194, 2571.3717059 , 2572.05010986,\n",
              "       2572.72851382])"
            ]
          },
          "metadata": {},
          "execution_count": 32
        }
      ]
    },
    {
      "cell_type": "markdown",
      "source": [
        ""
      ],
      "metadata": {
        "id": "BNo8O-CS-zMN"
      }
    },
    {
      "cell_type": "code",
      "source": [
        "plt.scatter(x,y,color=\"red\")\n",
        "plt.plot(x,y_pred,color=\"blue\")"
      ],
      "metadata": {
        "colab": {
          "base_uri": "https://localhost:8080/",
          "height": 282
        },
        "id": "9g4d4h9c60Gt",
        "outputId": "9ff32edf-962d-4a93-963d-62deb59f10b7"
      },
      "execution_count": null,
      "outputs": [
        {
          "output_type": "execute_result",
          "data": {
            "text/plain": [
              "[<matplotlib.lines.Line2D at 0x7f5e30823f10>]"
            ]
          },
          "metadata": {},
          "execution_count": 33
        },
        {
          "output_type": "display_data",
          "data": {
            "text/plain": [
              "<Figure size 432x288 with 1 Axes>"
            ],
            "image/png": "[encoded data removed]"
          },
          "metadata": {
            "needs_background": "light"
          }
        }
      ]
    },
    {
      "cell_type": "code",
      "source": [
        "from sklearn.preprocessing import PolynomialFeatures"
      ],
      "metadata": {
        "id": "xZb-X8Jw-04e"
      },
      "execution_count": 34,
      "outputs": []
    },
    {
      "cell_type": "code",
      "source": [
        "poly_reg = PolynomialFeatures(degree = 6)"
      ],
      "metadata": {
        "id": "TQgTIpvJ_Aax"
      },
      "execution_count": 47,
      "outputs": []
    },
    {
      "cell_type": "code",
      "source": [
        "X_poly = poly_reg.fit_transform(x)"
      ],
      "metadata": {
        "id": "G_BorALQ_HHm"
      },
      "execution_count": 49,
      "outputs": []
    },
    {
      "cell_type": "code",
      "source": [
        "LG = LinearRegression()"
      ],
      "metadata": {
        "id": "_cjPLOT__Qa0"
      },
      "execution_count": 50,
      "outputs": []
    },
    {
      "cell_type": "code",
      "source": [
        "LG.fit(X_poly, y)"
      ],
      "metadata": {
        "colab": {
          "base_uri": "https://localhost:8080/"
        },
        "id": "3DZpwFGU_Wqn",
        "outputId": "6f4b4b90-b039-45a0-d5eb-8b6ee673fbbb"
      },
      "execution_count": 51,
      "outputs": [
        {
          "output_type": "execute_result",
          "data": {
            "text/plain": [
              "LinearRegression()"
            ]
          },
          "metadata": {},
          "execution_count": 51
        }
      ]
    },
    {
      "cell_type": "code",
      "source": [
        "y_pred = LG.predict(X_poly)"
      ],
      "metadata": {
        "id": "2_8Syzz7_gFR"
      },
      "execution_count": 52,
      "outputs": []
    },
    {
      "cell_type": "code",
      "source": [
        "plt.scatter(x,y, color = 'red')\n",
        "plt.plot(x,y_pred, color = 'blue')"
      ],
      "metadata": {
        "colab": {
          "base_uri": "https://localhost:8080/",
          "height": 282
        },
        "id": "XHOPud83_nDg",
        "outputId": "60c1aad5-6d4b-4920-e544-01c92a73e118"
      },
      "execution_count": 53,
      "outputs": [
        {
          "output_type": "execute_result",
          "data": {
            "text/plain": [
              "[<matplotlib.lines.Line2D at 0x7f5e2da88850>]"
            ]
          },
          "metadata": {},
          "execution_count": 53
        },
        {
          "output_type": "display_data",
          "data": {
            "text/plain": [
              "<Figure size 432x288 with 1 Axes>"
            ],
            "image/png": "[encoded data removed]"
          },
          "metadata": {
            "needs_background": "light"
          }
        }
      ]
    }
  ]
}