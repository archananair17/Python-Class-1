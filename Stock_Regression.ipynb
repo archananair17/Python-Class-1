{
  "nbformat": 4,
  "nbformat_minor": 0,
  "metadata": {
    "colab": {
      "name": "Stock Regression.ipynb",
      "provenance": [],
      "authorship_tag": "ABX9TyNZyHH89LV8d8wzcVRNway+",
      "include_colab_link": true
    },
    "kernelspec": {
      "name": "python3",
      "display_name": "Python 3"
    },
    "language_info": {
      "name": "python"
    }
  },
  "cells": [
    {
      "cell_type": "markdown",
      "metadata": {
        "id": "view-in-github",
        "colab_type": "text"
      },
      "source": [
        "<a href=\"https://colab.research.google.com/github/archananair17/Python-Class-1/blob/main/Stock_Regression.ipynb\" target=\"_parent\"><img src=\"https://colab.research.google.com/assets/colab-badge.svg\" alt=\"Open In Colab\"/></a>"
      ]
    },
    {
      "cell_type": "code",
      "execution_count": 2,
      "metadata": {
        "id": "5MafEAeyFSB8"
      },
      "outputs": [],
      "source": [
        "import numpy as np"
      ]
    },
    {
      "cell_type": "code",
      "source": [
        "month = np.array([1,2,3,4,5,6,7,8,9,10,11,12])\n",
        "stockpricevalue = np.array([3715,3730,3476,3578,3818,3800,3546,3759,3542,3355,3315,3285])"
      ],
      "metadata": {
        "id": "kNaehyOCFWbc"
      },
      "execution_count": 3,
      "outputs": []
    },
    {
      "cell_type": "code",
      "source": [
        "month_dash = np.mean(month)"
      ],
      "metadata": {
        "id": "QQ-VrMbKGIHX"
      },
      "execution_count": 4,
      "outputs": []
    },
    {
      "cell_type": "code",
      "source": [
        "month_dash"
      ],
      "metadata": {
        "colab": {
          "base_uri": "https://localhost:8080/"
        },
        "id": "fEG401QpGXOD",
        "outputId": "c3c40f78-9718-4dde-b044-99ca254fe3bb"
      },
      "execution_count": 5,
      "outputs": [
        {
          "output_type": "execute_result",
          "data": {
            "text/plain": [
              "6.5"
            ]
          },
          "metadata": {},
          "execution_count": 5
        }
      ]
    },
    {
      "cell_type": "code",
      "source": [
        "stockpricevalue_dash = np.mean(stockpricevalue)"
      ],
      "metadata": {
        "id": "OZOPZkHlGanE"
      },
      "execution_count": 6,
      "outputs": []
    },
    {
      "cell_type": "code",
      "source": [
        "stockpricevalue_dash"
      ],
      "metadata": {
        "colab": {
          "base_uri": "https://localhost:8080/"
        },
        "id": "tLGpFLHhGnkQ",
        "outputId": "6d440528-9f09-4a43-9f52-013f7cbace1f"
      },
      "execution_count": 7,
      "outputs": [
        {
          "output_type": "execute_result",
          "data": {
            "text/plain": [
              "3576.5833333333335"
            ]
          },
          "metadata": {},
          "execution_count": 7
        }
      ]
    },
    {
      "cell_type": "code",
      "source": [
        "P = (month-month_dash) * (stockpricevalue-stockpricevalue_dash)"
      ],
      "metadata": {
        "id": "nszDXQMkGth9"
      },
      "execution_count": 8,
      "outputs": []
    },
    {
      "cell_type": "code",
      "source": [
        "num = sum(P)"
      ],
      "metadata": {
        "id": "koBMRUZ3G9Gs"
      },
      "execution_count": 9,
      "outputs": []
    },
    {
      "cell_type": "code",
      "source": [
        "num"
      ],
      "metadata": {
        "colab": {
          "base_uri": "https://localhost:8080/"
        },
        "id": "ArCqBXKTHAuo",
        "outputId": "5a27b94c-77cb-4b6f-afcb-e50f3598ac56"
      },
      "execution_count": 10,
      "outputs": [
        {
          "output_type": "execute_result",
          "data": {
            "text/plain": [
              "-4961.5"
            ]
          },
          "metadata": {},
          "execution_count": 10
        }
      ]
    },
    {
      "cell_type": "code",
      "source": [
        "Q = (month-month_dash)*(month-month_dash)"
      ],
      "metadata": {
        "id": "Bxl8r6lcHCqZ"
      },
      "execution_count": 11,
      "outputs": []
    },
    {
      "cell_type": "code",
      "source": [
        "den = sum(Q)"
      ],
      "metadata": {
        "id": "9Y6CvMV1HRBV"
      },
      "execution_count": 12,
      "outputs": []
    },
    {
      "cell_type": "code",
      "source": [
        "den"
      ],
      "metadata": {
        "colab": {
          "base_uri": "https://localhost:8080/"
        },
        "id": "XAWd0dgVN4pw",
        "outputId": "73d00097-0aa0-433f-ebea-0df00945a48a"
      },
      "execution_count": 13,
      "outputs": [
        {
          "output_type": "execute_result",
          "data": {
            "text/plain": [
              "143.0"
            ]
          },
          "metadata": {},
          "execution_count": 13
        }
      ]
    },
    {
      "cell_type": "code",
      "source": [
        "m = num/den"
      ],
      "metadata": {
        "id": "yQZVetSWHUo0"
      },
      "execution_count": 14,
      "outputs": []
    },
    {
      "cell_type": "code",
      "source": [
        "m"
      ],
      "metadata": {
        "colab": {
          "base_uri": "https://localhost:8080/"
        },
        "id": "F_YZJmFvHZgV",
        "outputId": "c80ee4b5-1aaf-4eeb-86bf-bd0c208095af"
      },
      "execution_count": 15,
      "outputs": [
        {
          "output_type": "execute_result",
          "data": {
            "text/plain": [
              "-34.69580419580419"
            ]
          },
          "metadata": {},
          "execution_count": 15
        }
      ]
    },
    {
      "cell_type": "code",
      "source": [
        "c = stockpricevalue_dash - m* month_dash"
      ],
      "metadata": {
        "id": "tIDy9mRLHaVV"
      },
      "execution_count": 16,
      "outputs": []
    },
    {
      "cell_type": "code",
      "source": [
        "c"
      ],
      "metadata": {
        "colab": {
          "base_uri": "https://localhost:8080/"
        },
        "id": "zZCZdTw4OcFK",
        "outputId": "3c7221df-8d43-4399-9db7-953b0dcdc771"
      },
      "execution_count": 17,
      "outputs": [
        {
          "output_type": "execute_result",
          "data": {
            "text/plain": [
              "3802.106060606061"
            ]
          },
          "metadata": {},
          "execution_count": 17
        }
      ]
    },
    {
      "cell_type": "code",
      "source": [
        "Ynew = m*month + c"
      ],
      "metadata": {
        "id": "LOqJDmQcHlal"
      },
      "execution_count": 18,
      "outputs": []
    },
    {
      "cell_type": "code",
      "source": [
        "Ynew"
      ],
      "metadata": {
        "colab": {
          "base_uri": "https://localhost:8080/"
        },
        "id": "DF2zDfmMHsvt",
        "outputId": "5ab3363a-7064-4a46-91b7-d7503d48b545"
      },
      "execution_count": 19,
      "outputs": [
        {
          "output_type": "execute_result",
          "data": {
            "text/plain": [
              "array([3767.41025641, 3732.71445221, 3698.01864802, 3663.32284382,\n",
              "       3628.62703963, 3593.93123543, 3559.23543124, 3524.53962704,\n",
              "       3489.84382284, 3455.14801865, 3420.45221445, 3385.75641026])"
            ]
          },
          "metadata": {},
          "execution_count": 19
        }
      ]
    },
    {
      "cell_type": "code",
      "source": [
        "import matplotlib.pyplot as plt"
      ],
      "metadata": {
        "id": "LKLSDd1LHyJM"
      },
      "execution_count": 20,
      "outputs": []
    },
    {
      "cell_type": "code",
      "source": [
        "plt.scatter(month,stockpricevalue)"
      ],
      "metadata": {
        "colab": {
          "base_uri": "https://localhost:8080/",
          "height": 282
        },
        "id": "kMmgeFmjH5bE",
        "outputId": "90b52288-8db9-43e7-85c0-0eaf9a263120"
      },
      "execution_count": 21,
      "outputs": [
        {
          "output_type": "execute_result",
          "data": {
            "text/plain": [
              "<matplotlib.collections.PathCollection at 0x7f051304da50>"
            ]
          },
          "metadata": {},
          "execution_count": 21
        },
        {
          "output_type": "display_data",
          "data": {
            "text/plain": [
              "<Figure size 432x288 with 1 Axes>"
            ],
            "image/png": "[encoded data removed]"
          },
          "metadata": {
            "needs_background": "light"
          }
        }
      ]
    },
    {
      "cell_type": "code",
      "source": [
        "plt.scatter(month,stockpricevalue)\n",
        "plt.plot(month,Ynew)"
      ],
      "metadata": {
        "colab": {
          "base_uri": "https://localhost:8080/",
          "height": 282
        },
        "id": "7gsf7r36H_xd",
        "outputId": "7fd4bf27-cc93-4f4e-b9e3-566fe36c2412"
      },
      "execution_count": 22,
      "outputs": [
        {
          "output_type": "execute_result",
          "data": {
            "text/plain": [
              "[<matplotlib.lines.Line2D at 0x7f0512b31f50>]"
            ]
          },
          "metadata": {},
          "execution_count": 22
        },
        {
          "output_type": "display_data",
          "data": {
            "text/plain": [
              "<Figure size 432x288 with 1 Axes>"
            ],
            "image/png": "[encoded data removed]"
          },
          "metadata": {
            "needs_background": "light"
          }
        }
      ]
    },
    {
      "cell_type": "code",
      "source": [
        "month = np.array([1,2,3,4,5,6,7,8,9,10,11,12])\n",
        "stockpricevalue = np.array([3715,3730,3476,3578,3818,3800,3546,3759,3542,3355,3315,3285])"
      ],
      "metadata": {
        "id": "Sj8IlvXLIMMN"
      },
      "execution_count": 24,
      "outputs": []
    },
    {
      "cell_type": "code",
      "source": [
        "n = np.size(month)"
      ],
      "metadata": {
        "id": "wFFRi2yehk4o"
      },
      "execution_count": 25,
      "outputs": []
    },
    {
      "cell_type": "code",
      "source": [
        "n"
      ],
      "metadata": {
        "colab": {
          "base_uri": "https://localhost:8080/"
        },
        "id": "RqUTu8uClAk-",
        "outputId": "1ae4f86e-2a46-42f5-8647-f0e4047c9742"
      },
      "execution_count": 26,
      "outputs": [
        {
          "output_type": "execute_result",
          "data": {
            "text/plain": [
              "12"
            ]
          },
          "metadata": {},
          "execution_count": 26
        }
      ]
    },
    {
      "cell_type": "code",
      "source": [
        "month_mean = np.mean(month)\n",
        "stockpricevalue_mean = np.mean(stockpricevalue)\n",
        "month_mean,stockpricevalue_mean"
      ],
      "metadata": {
        "colab": {
          "base_uri": "https://localhost:8080/"
        },
        "id": "lqqMJn8PlCzk",
        "outputId": "9afd7cb5-ea1b-4d48-fc3d-0ba0e8946835"
      },
      "execution_count": 27,
      "outputs": [
        {
          "output_type": "execute_result",
          "data": {
            "text/plain": [
              "(6.5, 3576.5833333333335)"
            ]
          },
          "metadata": {},
          "execution_count": 27
        }
      ]
    },
    {
      "cell_type": "code",
      "source": [
        "num = (n*np.sum(month*stockpricevalue))-(np.sum(month)*np.sum(stockpricevalue))"
      ],
      "metadata": {
        "id": "BapNqAvzlat7"
      },
      "execution_count": 28,
      "outputs": []
    },
    {
      "cell_type": "code",
      "source": [
        "num"
      ],
      "metadata": {
        "colab": {
          "base_uri": "https://localhost:8080/"
        },
        "id": "OkEbhghwmuy_",
        "outputId": "e6a72a50-cdb2-4378-d17b-6fcc2206028a"
      },
      "execution_count": 29,
      "outputs": [
        {
          "output_type": "execute_result",
          "data": {
            "text/plain": [
              "-59538"
            ]
          },
          "metadata": {},
          "execution_count": 29
        }
      ]
    },
    {
      "cell_type": "code",
      "source": [
        "den = (n*np.sum(month*month))-(np.sum(month)*np.sum(month))"
      ],
      "metadata": {
        "id": "5mvINeS3mxG9"
      },
      "execution_count": 31,
      "outputs": []
    },
    {
      "cell_type": "code",
      "source": [
        "den"
      ],
      "metadata": {
        "colab": {
          "base_uri": "https://localhost:8080/"
        },
        "id": "qiC7bR8rndm8",
        "outputId": "fea7244d-1b9b-48a2-86ce-ce81ab5bbc36"
      },
      "execution_count": 32,
      "outputs": [
        {
          "output_type": "execute_result",
          "data": {
            "text/plain": [
              "1716"
            ]
          },
          "metadata": {},
          "execution_count": 32
        }
      ]
    },
    {
      "cell_type": "code",
      "source": [
        "m=num/den"
      ],
      "metadata": {
        "id": "gUYo85QGnh6y"
      },
      "execution_count": 33,
      "outputs": []
    },
    {
      "cell_type": "code",
      "source": [
        "m"
      ],
      "metadata": {
        "colab": {
          "base_uri": "https://localhost:8080/"
        },
        "id": "guIb2FXSnm1K",
        "outputId": "4797f220-b3c3-4f9d-ce58-f4f32aabeaf4"
      },
      "execution_count": 34,
      "outputs": [
        {
          "output_type": "execute_result",
          "data": {
            "text/plain": [
              "-34.69580419580419"
            ]
          },
          "metadata": {},
          "execution_count": 34
        }
      ]
    },
    {
      "cell_type": "code",
      "source": [
        "c = stockpricevalue_mean-m*month_mean"
      ],
      "metadata": {
        "id": "svr3FbYinnoZ"
      },
      "execution_count": 35,
      "outputs": []
    },
    {
      "cell_type": "code",
      "source": [
        "c"
      ],
      "metadata": {
        "colab": {
          "base_uri": "https://localhost:8080/"
        },
        "id": "P1TW0-8un4Lt",
        "outputId": "95e82c08-bb38-4c93-c573-2c8cf7e05dbc"
      },
      "execution_count": 36,
      "outputs": [
        {
          "output_type": "execute_result",
          "data": {
            "text/plain": [
              "3802.106060606061"
            ]
          },
          "metadata": {},
          "execution_count": 36
        }
      ]
    },
    {
      "cell_type": "code",
      "source": [
        "  ynew = m*month + c"
      ],
      "metadata": {
        "id": "MLhLSy8yn6Ht"
      },
      "execution_count": 37,
      "outputs": []
    },
    {
      "cell_type": "code",
      "source": [
        "ynew"
      ],
      "metadata": {
        "colab": {
          "base_uri": "https://localhost:8080/"
        },
        "id": "kL3ftegMn_9V",
        "outputId": "6856e77f-a8d6-4f3a-82d0-f07749f1c232"
      },
      "execution_count": 38,
      "outputs": [
        {
          "output_type": "execute_result",
          "data": {
            "text/plain": [
              "array([3767.41025641, 3732.71445221, 3698.01864802, 3663.32284382,\n",
              "       3628.62703963, 3593.93123543, 3559.23543124, 3524.53962704,\n",
              "       3489.84382284, 3455.14801865, 3420.45221445, 3385.75641026])"
            ]
          },
          "metadata": {},
          "execution_count": 38
        }
      ]
    },
    {
      "cell_type": "code",
      "source": [
        "stockpricevalue"
      ],
      "metadata": {
        "colab": {
          "base_uri": "https://localhost:8080/"
        },
        "id": "Rx7oZHkDoCV9",
        "outputId": "4b3d8d9f-6f2f-4d4e-c0d8-86c5aff71da7"
      },
      "execution_count": 39,
      "outputs": [
        {
          "output_type": "execute_result",
          "data": {
            "text/plain": [
              "array([3715, 3730, 3476, 3578, 3818, 3800, 3546, 3759, 3542, 3355, 3315,\n",
              "       3285])"
            ]
          },
          "metadata": {},
          "execution_count": 39
        }
      ]
    },
    {
      "cell_type": "code",
      "source": [
        "plt.scatter(month,stockpricevalue)\n",
        "plt.plot(month,ynew)"
      ],
      "metadata": {
        "colab": {
          "base_uri": "https://localhost:8080/",
          "height": 282
        },
        "id": "tQ437xtzoGt-",
        "outputId": "632eb99e-4db2-4213-b746-02505d735940"
      },
      "execution_count": 40,
      "outputs": [
        {
          "output_type": "execute_result",
          "data": {
            "text/plain": [
              "[<matplotlib.lines.Line2D at 0x7f051284cfd0>]"
            ]
          },
          "metadata": {},
          "execution_count": 40
        },
        {
          "output_type": "display_data",
          "data": {
            "text/plain": [
              "<Figure size 432x288 with 1 Axes>"
            ],
            "image/png": "[encoded data removed]"
          },
          "metadata": {
            "needs_background": "light"
          }
        }
      ]
    },
    {
      "cell_type": "code",
      "source": [
        "month = np.array([1,2,3,4,5,6,7,8,9,10,11,12])"
      ],
      "metadata": {
        "id": "jCOCwyZNoZB8"
      },
      "execution_count": null,
      "outputs": []
    }
  ]
}