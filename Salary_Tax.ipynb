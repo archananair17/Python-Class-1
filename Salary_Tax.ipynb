{
  "nbformat": 4,
  "nbformat_minor": 0,
  "metadata": {
    "colab": {
      "name": "Salary Tax.ipynb",
      "provenance": [],
      "authorship_tag": "ABX9TyMJl89rAYnAv9t6PBpp5c0n",
      "include_colab_link": true
    },
    "kernelspec": {
      "name": "python3",
      "display_name": "Python 3"
    },
    "language_info": {
      "name": "python"
    }
  },
  "cells": [
    {
      "cell_type": "markdown",
      "metadata": {
        "id": "view-in-github",
        "colab_type": "text"
      },
      "source": [
        "<a href=\"https://colab.research.google.com/github/archananair17/Python-Class-1/blob/main/Salary_Tax.ipynb\" target=\"_parent\"><img src=\"https://colab.research.google.com/assets/colab-badge.svg\" alt=\"Open In Colab\"/></a>"
      ]
    },
    {
      "cell_type": "code",
      "source": [
        "x=int(input(\"Enter a Basic Salary:\"))\n",
        "sal=x-250000\n",
        "if sal > 250000 and sal < 500000 :\n",
        " print(\"tax \",sal*5/100)\n",
        "elif sal > 500000 and sal < 750000 :\n",
        " print(\"tax \",x*10/100)\n",
        "elif sal > 750000 and sal < 1000000 :\n",
        " print(\"tax \",x*20/100)\n",
        "elif sal > 1000000 :\n",
        "  print(\"tax \",sal*30/100)"
      ],
      "metadata": {
        "colab": {
          "base_uri": "https://localhost:8080/"
        },
        "id": "OOFQT3DcSM3R",
        "outputId": "b1499ab2-8a94-42be-a25e-7d2ac6e1305e"
      },
      "execution_count": 19,
      "outputs": [
        {
          "output_type": "stream",
          "name": "stdout",
          "text": [
            "Enter a Basic Salary:4000000\n",
            "tax  1125000.0\n"
          ]
        }
      ]
    },
    {
      "cell_type": "code",
      "source": [
        "y=int(input(\"Enter the house rent\"))\n",
        "hra=y-250000\n",
        "if hra > 250000 and hra < 500000 :\n",
        " t=hra*5/100\n",
        " print(\"tax \",t)\n",
        "elif hra > 500000 and hra < 750000 :\n",
        " print(\"tax \",hra*10/100)\n",
        "elif hra > 750000 and hra < 1000000 :\n",
        " print(\"tax \",hra*20/100)"
      ],
      "metadata": {
        "colab": {
          "base_uri": "https://localhost:8080/"
        },
        "id": "daE7digQTzRZ",
        "outputId": "626af420-3b7d-4d1d-c48a-67b0f72db718"
      },
      "execution_count": 22,
      "outputs": [
        {
          "output_type": "stream",
          "name": "stdout",
          "text": [
            "Enter the house rent800000\n",
            "tax  55000.0\n"
          ]
        }
      ]
    },
    {
      "cell_type": "code",
      "source": [
        "z=int(input(\"Enter special allowance\"))\n",
        "spa=z-250000\n",
        "if spa > 250000 and spa < 500000 :\n",
        " t=spa*5/100\n",
        " print(\"tax \",t)\n",
        "elif spa > 500000 and spa < 750000 :\n",
        " print(\"tax \",spa*10/100)\n",
        "elif spa > 750000 and spa < 1000000 :\n",
        " print(\"tax \",spa*20/100)"
      ],
      "metadata": {
        "colab": {
          "base_uri": "https://localhost:8080/"
        },
        "id": "peIqBZPuY0EM",
        "outputId": "497db332-0d11-4c12-c3be-79891e1d59f9"
      },
      "execution_count": 27,
      "outputs": [
        {
          "output_type": "stream",
          "name": "stdout",
          "text": [
            "Enter special allowance550000\n",
            "tax  15000.0\n"
          ]
        }
      ]
    },
    {
      "cell_type": "code",
      "source": [
        "\n",
        "n=int(input(\"Enter LTA\"))\n",
        "lta=n-250000\n",
        "if lta > 250000 and lta < 500000 :\n",
        " print(\"You are taxable\")\n",
        " t=lta*5/100\n",
        " print(\"tax \",t)\n",
        "elif lta > 500000 and lta < 750000 :\n",
        " print(\"tax \",lta*10/100)\n",
        "elif lta > 750000 and lta < 1000000 :\n",
        "  print(\"tax \",lta*20/100)"
      ],
      "metadata": {
        "colab": {
          "base_uri": "https://localhost:8080/"
        },
        "id": "3neBCkGZZKx6",
        "outputId": "4e47b29b-045c-452f-8683-452f4fa05d98"
      },
      "execution_count": 28,
      "outputs": [
        {
          "output_type": "stream",
          "name": "stdout",
          "text": [
            "Enter LTA600000\n",
            "You are taxable\n",
            "tax  17500.0\n"
          ]
        }
      ]
    },
    {
      "cell_type": "code",
      "source": [
        ""
      ],
      "metadata": {
        "id": "1q5hLg48ZsH9"
      },
      "execution_count": null,
      "outputs": []
    }
  ]
}